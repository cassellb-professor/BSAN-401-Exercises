{
 "cells": [
  {
   "cell_type": "markdown",
   "metadata": {
    "application/vnd.databricks.v1+cell": {
     "cellMetadata": {},
     "inputWidgets": {},
     "nuid": "760835c0-c472-4557-bb51-0556b7aa03cb",
     "showTitle": false,
     "tableResultSettingsMap": {},
     "title": ""
    }
   },
   "source": [
    "# 01 - Grouping and Aggregating Data\n",
    "\n",
    "This demonstration will show how to perform grouping and aggregation operations using NYC Taxi trip data. We'll explore basic grouping, multiple aggregations, and window functions.\n",
    "\n",
    "### Objectives\n",
    "- Understand basic grouping operations in Spark\n",
    "- Perform time-based analysis using aggregations\n",
    "- Implement complex aggregations with multiple metrics\n",
    "- Use window functions for advanced analytics\n",
    "- Optimize aggregation performance\n"
   ]
  },
  {
   "cell_type": "markdown",
   "metadata": {
    "application/vnd.databricks.v1+cell": {
     "cellMetadata": {},
     "inputWidgets": {},
     "nuid": "232a7685-20fc-40c7-82b8-2b950b1c42a7",
     "showTitle": false,
     "tableResultSettingsMap": {},
     "title": ""
    }
   },
   "source": [
    "%md\n",
    "## REQUIRED - SELECT CLASSIC COMPUTE\n",
    "\n",
    "Before executing cells in this notebook, please select your classic compute cluster in the lab. Be aware that **Serverless** is enabled by default.\n",
    "\n",
    "Follow these steps to select the classic compute cluster:\n",
    "\n",
    "1. Navigate to the top-right of this notebook and click the drop-down menu to select your cluster. By default, the notebook will use **Serverless**.\n",
    "\n",
    "1. If your cluster is available, select it and continue to the next cell. If the cluster is not shown:\n",
    "\n",
    "    - In the drop-down, select **More**.\n",
    "\n",
    "    - In the **Attach to an existing compute resource** pop-up, select the first drop-down. You will see a unique cluster name in that drop-down. Please select that cluster.\n",
    "\n",
    "**NOTE:** If your cluster has terminated, you might need to restart it in order to select it. To do this:\n",
    "\n",
    "1. Right-click on **Compute** in the left navigation pane and select *Open in new tab*.\n",
    "\n",
    "1. Find the triangle icon to the right of your compute cluster name and click it.\n",
    "\n",
    "1. Wait a few minutes for the cluster to start.\n",
    "\n",
    "1. Once the cluster is running, complete the steps above to select your cluster.\n"
   ]
  },
  {
   "cell_type": "markdown",
   "metadata": {
    "application/vnd.databricks.v1+cell": {
     "cellMetadata": {},
     "inputWidgets": {},
     "nuid": "f29d00cf-5b08-4e7f-97c3-254a0dea4a2d",
     "showTitle": false,
     "tableResultSettingsMap": {},
     "title": ""
    }
   },
   "source": [
    "## A. Data Setup and Loading\n",
    "\n",
    "First, let's load our taxi trip data and examine its structure.\n",
    "from pyspark.sql.functions import *\n"
   ]
  },
  {
   "cell_type": "code",
   "execution_count": 0,
   "metadata": {
    "application/vnd.databricks.v1+cell": {
     "cellMetadata": {},
     "inputWidgets": {},
     "nuid": "fcf6f7e5-83a6-4f94-992c-7cfab5792f33",
     "showTitle": false,
     "tableResultSettingsMap": {},
     "title": ""
    }
   },
   "outputs": [],
   "source": [
    "from pyspark.sql.functions import *\n",
    "\n",
    "# Read and displaying the taxi data\n",
    "trips_df = spark.read.table(\"samples.nyctaxi.trips\")\n",
    "\n",
    "display(trips_df.limit(10))"
   ]
  },
  {
   "cell_type": "markdown",
   "metadata": {
    "application/vnd.databricks.v1+cell": {
     "cellMetadata": {},
     "inputWidgets": {},
     "nuid": "e46b5360-7c26-4fb7-90fa-a1e2b01afb6a",
     "showTitle": false,
     "tableResultSettingsMap": {},
     "title": ""
    }
   },
   "source": [
    "%md\n",
    "## B. Basic Grouping Operations\n",
    "\n",
    "Let's start with simple grouping operations to understand trip patterns by location."
   ]
  },
  {
   "cell_type": "code",
   "execution_count": 0,
   "metadata": {
    "application/vnd.databricks.v1+cell": {
     "cellMetadata": {},
     "inputWidgets": {},
     "nuid": "150af561-36a9-4b71-8e24-fa3e16278d4f",
     "showTitle": false,
     "tableResultSettingsMap": {},
     "title": ""
    }
   },
   "outputs": [],
   "source": [
    "# Count trips by pickup location, to show top 5 most popular pickup locations\n",
    "location_counts = trips_df \\\n",
    "    .groupBy(\"pickup_zip\") \\\n",
    "    .count() \\\n",
    "    .orderBy(desc(\"count\"))\n",
    "\n",
    "display(location_counts.limit(5))"
   ]
  },
  {
   "cell_type": "markdown",
   "metadata": {
    "application/vnd.databricks.v1+cell": {
     "cellMetadata": {},
     "inputWidgets": {},
     "nuid": "2980c86a-6067-4498-894e-4c1ea70ad8a7",
     "showTitle": false,
     "tableResultSettingsMap": {},
     "title": ""
    }
   },
   "source": [
    "## C. Combining Multiple Aggregations\n",
    "\n",
    "Let's perform multiple aggregations by location using the `agg()` method"
   ]
  },
  {
   "cell_type": "code",
   "execution_count": 0,
   "metadata": {
    "application/vnd.databricks.v1+cell": {
     "cellMetadata": {},
     "inputWidgets": {},
     "nuid": "45b74a1d-5422-49de-9d52-7484d1e8dc5c",
     "showTitle": false,
     "tableResultSettingsMap": {},
     "title": ""
    }
   },
   "outputs": [],
   "source": [
    "# Perform multiple aggregations by location, order by most popular pickup locations\n",
    "location_stats = trips_df \\\n",
    "    .groupBy(\"pickup_zip\") \\\n",
    "    .agg(\n",
    "        count(\"*\").alias(\"total_trips\"),\n",
    "        round(avg(\"trip_distance\"), 2).alias(\"avg_distance\"),\n",
    "        round(avg(\"fare_amount\"), 2).alias(\"avg_fare\"),\n",
    "        round(sum(\"fare_amount\"), 2).alias(\"total_fare_amt\")\n",
    "    ) \\\n",
    "    .orderBy(desc(\"total_trips\"))\n",
    "\n",
    "display(location_stats.limit(5))"
   ]
  },
  {
   "cell_type": "markdown",
   "metadata": {
    "application/vnd.databricks.v1+cell": {
     "cellMetadata": {},
     "inputWidgets": {},
     "nuid": "fd6656b3-4e8d-4a61-8673-fa36807e7fba",
     "showTitle": false,
     "tableResultSettingsMap": {},
     "title": ""
    }
   },
   "source": [
    "## D. Window Functions\n",
    "\n",
    "Now let's use window functions for more advanced analytics.\n",
    "from pyspark.sql.window import Window"
   ]
  },
  {
   "cell_type": "code",
   "execution_count": 0,
   "metadata": {
    "application/vnd.databricks.v1+cell": {
     "cellMetadata": {},
     "inputWidgets": {},
     "nuid": "61f002ce-1c65-4837-b55e-db6dd40a89f1",
     "showTitle": false,
     "tableResultSettingsMap": {},
     "title": ""
    }
   },
   "outputs": [],
   "source": [
    "# Create window specs for different ranking methods\n",
    "window_by_trips = Window.orderBy(desc(\"total_trips\"))\n",
    "window_by_fare = Window.orderBy(desc(\"avg_fare\"))\n",
    "\n",
    "# Add different types of rankings\n",
    "ranked_locations = location_stats \\\n",
    "    .withColumn(\"trips_rank\", rank().over(window_by_trips)) \\\n",
    "    .withColumn(\"fare_rank\", rank().over(window_by_fare)) \\\n",
    "    .withColumn(\"fare_quintile\", ntile(5).over(window_by_fare))  # Divide into 5 groups by fare"
   ]
  },
  {
   "cell_type": "code",
   "execution_count": 0,
   "metadata": {
    "application/vnd.databricks.v1+cell": {
     "cellMetadata": {},
     "inputWidgets": {},
     "nuid": "aae3748c-b3df-4916-86ae-717e67810c32",
     "showTitle": false,
     "tableResultSettingsMap": {},
     "title": ""
    }
   },
   "outputs": [],
   "source": [
    "ranked_locations.createOrReplaceTempView(\"ranked_locations\")"
   ]
  },
  {
   "cell_type": "code",
   "execution_count": 0,
   "metadata": {
    "application/vnd.databricks.v1+cell": {
     "cellMetadata": {},
     "inputWidgets": {},
     "nuid": "177fd0dc-7db2-45ca-841f-e50801389a99",
     "showTitle": false,
     "tableResultSettingsMap": {},
     "title": ""
    }
   },
   "outputs": [],
   "source": [
    "%sql\n",
    "select fare_quintile,min(avg_fare),max(avg_fare),count(*) as cnt_per_group from ranked_locations group by fare_quintile"
   ]
  },
  {
   "cell_type": "code",
   "execution_count": 0,
   "metadata": {
    "application/vnd.databricks.v1+cell": {
     "cellMetadata": {},
     "inputWidgets": {},
     "nuid": "30fabe6f-c179-49b9-8512-39366006cdc3",
     "showTitle": false,
     "tableResultSettingsMap": {},
     "title": ""
    }
   },
   "outputs": [],
   "source": [
    "# Displaying the results\n",
    "display(ranked_locations.select(\n",
    "    \"pickup_zip\", \n",
    "    \"total_trips\", \n",
    "    \"avg_fare\", \n",
    "    \"avg_distance\",\n",
    "    \"trips_rank\",\n",
    "    \"fare_rank\",\n",
    "    \"fare_quintile\"\n",
    "))"
   ]
  },
  {
   "cell_type": "markdown",
   "metadata": {
    "application/vnd.databricks.v1+cell": {
     "cellMetadata": {},
     "inputWidgets": {},
     "nuid": "b94cd7cb-5966-4f64-ba89-dc55f1cd6d1e",
     "showTitle": false,
     "tableResultSettingsMap": {},
     "title": ""
    }
   },
   "source": [
    "## Key Takeaways\n",
    "\n",
    "1. **Basic Grouping**\n",
    "   - Use `groupBy()` followed by aggregation method\n",
    "   - Can group by multiple columns\n",
    "   - Always check data distribution\n",
    "\n",
    "2. **Window Functions**\n",
    "   - Perfect for comparative analytics\n",
    "   - Consider performance impact\n",
    "   - Use appropriate window frame\n",
    "\n",
    "3. **Best Practices**\n",
    "   - Always alias aggregated columns\n",
    "   - Handle null values appropriately\n",
    "   - Consider data skew in grouping keys\n"
   ]
  }
 ],
 "metadata": {
  "application/vnd.databricks.v1+notebook": {
   "computePreferences": null,
   "dashboards": [],
   "environmentMetadata": {
    "base_environment": "",
    "environment_version": "3"
   },
   "inputWidgetPreferences": null,
   "language": "python",
   "notebookMetadata": {
    "pythonIndentUnit": 4
   },
   "notebookName": "Grouping and Aggregating Data 1",
   "widgets": {}
  },
  "language_info": {
   "name": "python"
  }
 },
 "nbformat": 4,
 "nbformat_minor": 0
}
